{
  "cells": [
    {
      "cell_type": "markdown",
      "metadata": {
        "id": "jJB6ymaEVC30"
      },
      "source": [
        "\n",
        "#Introduction\n",
        "Our three metrics that we used to evaluate are:\n",
        "- Crime\n",
        "- Education\n",
        "- Green spaces\n",
        "\n",
        "The way we evaluate these spaces "
      ]
    },
    {
      "cell_type": "code",
      "execution_count": null,
      "metadata": {},
      "outputs": [],
      "source": [
        "#read datatsets\n",
        "arrest_data = pd.read_csv(\"arrest_data.csv\")\n",
        "parks_data = pd.read_csv(\"parks_data.csv\")\n",
        "income_data = pd.read_csv(\"income_data.csv\")"
      ]
    },
    {
      "cell_type": "code",
      "execution_count": null,
      "metadata": {},
      "outputs": [],
      "source": [
        "#Arrest Analysis (Nick)\n",
        "arrest_count = arrest_data['INCIDENTNEIGHBORHOOD'].value_counts().reset_index()\n",
        "arrest_count.columns = ['Neighborhood', 'Arrests']\n",
        "\n",
        "# Rank Arrest Data\n",
        "combined_data = arrest_count.copy()\n",
        "combined_data['ArrestsRank'] = combined_data['Arrests'].rank(ascending=True)\n"
      ]
    },
    {
      "cell_type": "code",
      "execution_count": null,
      "metadata": {},
      "outputs": [],
      "source": [
        "# Parks Analysis (Avneet)\n",
        "parks_count = parks_data['neighborhood'].value_counts().reset_index()\n",
        "parks_count.columns = ['Neighborhood', 'Parks']\n",
        "\n",
        "# Rank Parks Data\n",
        "combined_data = parks_count.copy()\n",
        "combined_data['ParksRank'] = combined_data['Parks'].rank(ascending=False)\n"
      ]
    },
    {
      "cell_type": "code",
      "execution_count": null,
      "metadata": {},
      "outputs": [],
      "source": [
        "# Process Income Data (Evan)\n",
        "income_data = income_data[['Community', 'median_household']]\n",
        "income_data = income_data.rename(columns={'Community': 'Neighborhood', 'median_household': 'Median Income'})\n",
        "income_data = income_data.replace(',','', regex=True)\n",
        "income_data['Median Income'] = income_data['Median Income'].astype(float)\n",
        "\n",
        "# Rank Income Data\n",
        "combined_data = income_data.copy()\n",
        "combined_data['IncomeRank'] = combined_data['Median Income'].rank(ascending=False)\n"
      ]
    },
    {
      "cell_type": "code",
      "execution_count": null,
      "metadata": {
        "id": "saqTFfj8Ubkr"
      },
      "outputs": [],
      "source": []
    },
    {
      "cell_type": "code",
      "execution_count": null,
      "metadata": {},
      "outputs": [],
      "source": [
        "#dipslay the data (in a bar graph that depicts the lowest rank (lowest bar) as the best neighborhood\n",
        "import matplotlib.pyplot as plt\n",
        "\n",
        "# Calculate total rank and sort the data by it\n",
        "plot_data = combined_data[['Neighborhood', 'ArrestsRank', 'ParksRank', 'IncomeRank']].set_index('Neighborhood')\n",
        "plot_data['TotalRank'] = plot_data['ArrestsRank'] + plot_data['ParksRank'] + plot_data['IncomeRank']\n",
        "plot_data = plot_data.sort_values('TotalRank', ascending=True)\n",
        "\n",
        "# Create the stacked bar plot\n",
        "fig, ax = plt.subplots(figsize=(20, 10))\n",
        "plot_data[['ArrestsRank', 'ParksRank', 'IncomeRank']].plot(kind='bar', stacked=True, ax=ax)\n",
        "ax.set_title(\"Neighborhood Rankings for Arrests, Parks, and Income (Sorted by Total Rank)\")\n",
        "ax.set_xlabel(\"Neighborhood\")\n",
        "ax.set_ylabel(\"Rank\")\n",
        "\n",
        "# Display the plot\n",
        "plt.tight_layout()\n",
        "plt.show()"
      ]
    },
    {
      "cell_type": "code",
      "execution_count": null,
      "metadata": {},
      "outputs": [],
      "source": [
        "# adjusted code (using weights)\n",
        "# Import Libraries\n",
        "import pandas as pd\n",
        "import numpy as np\n",
        "\n",
        "# Read Datasets\n",
        "arrest_data = pd.read_csv(\"arrest_data.csv\")\n",
        "parks_data = pd.read_csv(\"parks_data.csv\")\n",
        "income_data = pd.read_csv(\"income_data.csv\")\n",
        "\n",
        "# Process Arrest Data\n",
        "arrest_count = arrest_data['INCIDENTNEIGHBORHOOD'].value_counts().reset_index()\n",
        "arrest_count.columns = ['Neighborhood', 'Arrests']\n",
        "\n",
        "# Process Parks Data\n",
        "parks_count = parks_data['neighborhood'].value_counts().reset_index()\n",
        "parks_count.columns = ['Neighborhood', 'Parks']\n",
        "\n",
        "# Process Income Data\n",
        "income_data = income_data[['Community', 'median_household']]\n",
        "income_data = income_data.rename(columns={'Community': 'Neighborhood', 'median_household': 'Median Income'})\n",
        "\n",
        "# Remove commas from the 'Median Income' column\n",
        "income_data['Median Income'] = income_data['Median Income'].str.replace(',', '')\n",
        "\n",
        "# Merge All Data\n",
        "combined_data = arrest_count.merge(parks_count, on='Neighborhood', how='outer').merge(income_data, on='Neighborhood', how='outer')\n",
        "\n",
        "# Convert 'Median Income' to a numeric type\n",
        "combined_data['Median Income'] = pd.to_numeric(combined_data['Median Income'], errors='coerce')\n",
        "\n",
        "# Fill missing values with 0\n",
        "combined_data = combined_data.fillna(0)\n",
        "\n",
        "# Drop rows where 'Arrests', 'Parks', and 'Median Income' are all zero\n",
        "combined_data = combined_data[(combined_data['Arrests'] != 0) | (combined_data['Parks'] != 0) | (combined_data['Median Income'] > 0)]\n",
        "\n",
        "# Rank Each Metric\n",
        "combined_data['ArrestsRank'] = combined_data['Arrests'].rank(ascending=False)\n",
        "combined_data['ParksRank'] = combined_data['Parks'].rank(ascending=False)\n",
        "combined_data['IncomeRank'] = combined_data['Median Income'].rank(ascending=False)\n",
        "\n",
        "# Assign weights to each metric\n",
        "arrests_weight = 5\n",
        "parks_weight = 3\n",
        "income_weight = 2\n",
        "\n",
        "# Calculate Weighted Combined Score\n",
        "combined_data['CombinedScore'] = (combined_data['ArrestsRank'] * arrests_weight) + (combined_data['ParksRank'] * parks_weight) + (combined_data['IncomeRank'] * income_weight)\n",
        "\n",
        "# Find the Best Neighborhood\n",
        "best_neighborhood = combined_data.loc[combined_data['CombinedScore'].idxmin(), 'Neighborhood']\n",
        "print(f\"The best neighborhood in Pittsburgh is {best_neighborhood}.\")\n",
        "\n",
        "combined_data = combined_data.sort_values('CombinedScore', ascending=False)\n",
        "combined_data.tail(10)\n"
      ]
    },
    {
      "cell_type": "code",
      "execution_count": null,
      "metadata": {},
      "outputs": [],
      "source": [
        "#dipslay the data for (weighted options)\n",
        "# Calculate total rank and sort the data by it\n",
        "plot_data = combined_data[['Neighborhood', 'ArrestsRank', 'ParksRank', 'IncomeRank']].set_index('Neighborhood')\n",
        "plot_data['TotalRank'] = plot_data['ArrestsRank'] + plot_data['ParksRank'] + plot_data['IncomeRank']\n",
        "plot_data = plot_data.sort_values('TotalRank', ascending=True)\n",
        "\n",
        "# Create the stacked bar plot\n",
        "fig, ax = plt.subplots(figsize=(20, 10))\n",
        "plot_data[['ArrestsRank', 'ParksRank', 'IncomeRank']].plot(kind='bar', stacked=True, ax=ax)\n",
        "ax.set_title(\"Neighborhood Rankings for Arrests, Parks, and Income (Sorted by Total Rank)\")\n",
        "ax.set_xlabel(\"Neighborhood\")\n",
        "ax.set_ylabel(\"Rank\")\n",
        "\n",
        "# Display the plot\n",
        "plt.tight_layout()\n",
        "plt.show()"
      ]
    }
  ],
  "metadata": {
    "colab": {
      "provenance": []
    },
    "kernelspec": {
      "display_name": "Python 3",
      "name": "python3"
    },
    "language_info": {
      "name": "python"
    }
  },
  "nbformat": 4,
  "nbformat_minor": 0
}
