{
  "nbformat": 4,
  "nbformat_minor": 0,
  "metadata": {
    "colab": {
      "provenance": []
    },
    "kernelspec": {
      "name": "python3",
      "display_name": "Python 3"
    },
    "language_info": {
      "name": "python"
    }
  },
  "cells": [
    {
      "cell_type": "markdown",
      "source": [
        "\n",
        "#Introduction\n",
        "Our three metrics that we used to evaluate are:\n",
        "- Crime\n",
        "- Education\n",
        "- Green spaces\n",
        "\n",
        "The way we evaluate these spaces "
      ],
      "metadata": {
        "id": "jJB6ymaEVC30"
      }
    },
    {
      "cell_type": "code",
      "execution_count": null,
      "metadata": {
        "id": "saqTFfj8Ubkr"
      },
      "outputs": [],
      "source": [
        "# Import Libraries\n",
        "import pandas as pd\n",
        "import numpy as np\n",
        "\n",
        "# Read Datasets\n",
        "arrest_data = pd.read_csv(\"arrest_data.csv\")\n",
        "tree_data = pd.read_csv(\"tree_data.csv\")\n",
        "income_data = pd.read_csv(\"1984_community_profiles.csv\") # <--- REPLACE THIS ?????\n",
        "\n",
        "# Process Arrest Data\n",
        "arrest_count = arrest_data['INCIDENTNEIGHBORHOOD'].value_counts().reset_index()\n",
        "arrest_count.columns = ['Neighborhood', 'Arrests']\n",
        "\n",
        "# Process Tree Data\n",
        "tree_count = tree_data['neighborhood'].value_counts().reset_index()\n",
        "tree_count.columns = ['Neighborhood', 'Trees']\n",
        "\n",
        "# Process Income Data\n",
        "income_data = income_data[['Neighborhood', 'Median Income']]\n",
        "\n",
        "# Merge All Data\n",
        "combined_data = arrest_count.merge(tree_count, on='Neighborhood', how='outer').merge(income_data, on='Neighborhood', how='outer')\n",
        "\n",
        "# Rank Each Metric\n",
        "combined_data['ArrestsRank'] = combined_data['Arrests'].rank()\n",
        "combined_data['TreesRank'] = combined_data['Trees'].rank(ascending=False)\n",
        "combined_data['IncomeRank'] = combined_data['Median Income'].rank(ascending=False)\n",
        "\n",
        "# Calculate Combined Score\n",
        "combined_data['CombinedScore'] = combined_data['ArrestsRank'] + combined_data['TreesRank'] + combined_data['IncomeRank']\n",
        "\n",
        "# Find the Best Neighborhood\n",
        "best_neighborhood = combined_data.loc[combined_data['CombinedScore'].idxmin(), 'Neighborhood']\n",
        "print(f\"The best neighborhood in Pittsburgh is {best_neighborhood}.\")"
      ]
    }
  ]
}